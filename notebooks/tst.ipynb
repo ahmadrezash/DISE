{
 "cells": [
  {
   "cell_type": "code",
   "execution_count": 15,
   "outputs": [
    {
     "data": {
      "text/plain": "(2, 10)"
     },
     "execution_count": 15,
     "metadata": {},
     "output_type": "execute_result"
    }
   ],
   "source": [
    "import numpy as np\n",
    "from lib.Data import DesignDataset\n",
    "\n",
    "DATA_ROOT=\"F:\\\\dise\\\\flask-dise\\\\static\\\\img\\\\DataSet\"\n",
    "VEC_ROOT = \"F:\\\\dise\\\\flask-dise\\\\static\\\\feature\\\\VGG16\\\\VGG16\\\\DataSet\"\n",
    "dataset = DesignDataset(root=DATA_ROOT, vector_root=VEC_ROOT)\n",
    "img = dataset[10:30]\n",
    "l = np.array(list(map(lambda x: x.numpy(), img[1])))\n",
    "\n",
    "from joblib import dump, load\n",
    "pca_ = load(\"pca.pkl\")\n",
    "pca_.transform(l[:2]).shape\n"
   ],
   "metadata": {
    "collapsed": false,
    "pycharm": {
     "name": "#%%\n"
    }
   }
  },
  {
   "cell_type": "code",
   "execution_count": null,
   "outputs": [],
   "source": [],
   "metadata": {
    "collapsed": false,
    "pycharm": {
     "name": "#%%\n"
    }
   }
  }
 ],
 "metadata": {
  "kernelspec": {
   "name": "python3",
   "language": "python",
   "display_name": "Python 3"
  },
  "language_info": {
   "codemirror_mode": {
    "name": "ipython",
    "version": 2
   },
   "file_extension": ".py",
   "mimetype": "text/x-python",
   "name": "python",
   "nbconvert_exporter": "python",
   "pygments_lexer": "ipython2",
   "version": "2.7.6"
  }
 },
 "nbformat": 4,
 "nbformat_minor": 0
}